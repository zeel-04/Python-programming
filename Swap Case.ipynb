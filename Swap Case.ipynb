{
 "cells": [
  {
   "cell_type": "code",
   "execution_count": 3,
   "id": "de37fd36",
   "metadata": {},
   "outputs": [
    {
     "name": "stdout",
     "output_type": "stream",
     "text": [
      "Enter your string here : Pythonist 3\n",
      "pYTHONIST 3\n"
     ]
    }
   ],
   "source": [
    "def swap_case(s):                         #defining a function called swap case\n",
    "    result = []                           #initializing a list to store our string, so we can iterate through it and compare each letter\n",
    "    for letter in s:                      #for loop to iteraate through the string\n",
    "        if letter == letter.lower():      #Checking if given letter is lowercase or uppercase \n",
    "            result.append(letter.upper()) \n",
    "        elif letter == letter.upper():\n",
    "            result.append(letter.lower())\n",
    "        else:                             #else condition appends the letter as it is if its not of string datatype\n",
    "            result.append(letter)\n",
    "    return ''.join(result)                #returning the result\n",
    "s = input(\"Enter your string here : \")    #taking input from user\n",
    "result = swap_case(s)\n",
    "print(result)                             #printing the result"
   ]
  },
  {
   "cell_type": "code",
   "execution_count": null,
   "id": "48fba01e",
   "metadata": {},
   "outputs": [],
   "source": []
  }
 ],
 "metadata": {
  "kernelspec": {
   "display_name": "Python 3 (ipykernel)",
   "language": "python",
   "name": "python3"
  },
  "language_info": {
   "codemirror_mode": {
    "name": "ipython",
    "version": 3
   },
   "file_extension": ".py",
   "mimetype": "text/x-python",
   "name": "python",
   "nbconvert_exporter": "python",
   "pygments_lexer": "ipython3",
   "version": "3.9.7"
  }
 },
 "nbformat": 4,
 "nbformat_minor": 5
}
