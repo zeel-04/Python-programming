{
 "cells": [
  {
   "cell_type": "code",
   "execution_count": 2,
   "id": "573736aa",
   "metadata": {},
   "outputs": [
    {
     "name": "stdout",
     "output_type": "stream",
     "text": [
      "3\n",
      "rotor\n",
      "YES\n",
      "abccba\n",
      "YES\n",
      "abca\n",
      "NO\n"
     ]
    }
   ],
   "source": [
    "Total_test_cases = int(input())    #input of total test cases\n",
    "for i in range(Total_test_cases):  #Iterating through each test case\n",
    "    n = input()                    #Asking user for input of words\n",
    "    l = len(n)                     #Storing the length of the word\n",
    "    if l % 2 == 0:                 #Checking whether the word has even or odd number of letters\n",
    "        b, c = n[:l//2], n[l//2:]  #Checking for lapindrome using floor division\n",
    "    else:\n",
    "        b, c = n[:l//2], n[l//2+1:]\n",
    "    if sorted(b) == sorted(c):\n",
    "        print(\"YES\")               #Printing yes if its a lapindrome\n",
    "    else:\n",
    "        print(\"NO\")                #Printing no if its not a lapindrome"
   ]
  },
  {
   "cell_type": "code",
   "execution_count": null,
   "id": "00db69f8",
   "metadata": {},
   "outputs": [],
   "source": []
  }
 ],
 "metadata": {
  "kernelspec": {
   "display_name": "Python 3 (ipykernel)",
   "language": "python",
   "name": "python3"
  },
  "language_info": {
   "codemirror_mode": {
    "name": "ipython",
    "version": 3
   },
   "file_extension": ".py",
   "mimetype": "text/x-python",
   "name": "python",
   "nbconvert_exporter": "python",
   "pygments_lexer": "ipython3",
   "version": "3.9.7"
  }
 },
 "nbformat": 4,
 "nbformat_minor": 5
}
