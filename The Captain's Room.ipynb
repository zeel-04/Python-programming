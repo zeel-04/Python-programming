{
 "cells": [
  {
   "cell_type": "code",
   "execution_count": 5,
   "id": "4dafc4b4",
   "metadata": {},
   "outputs": [
    {
     "name": "stdout",
     "output_type": "stream",
     "text": [
      "5\n",
      "1 2 3 6 5 4 4 2 5 3 6 1 6 5 3 2 4 1 2 5 1 4 3 6 8 4 3 1 5 6 2\n",
      "8\n"
     ]
    }
   ],
   "source": [
    "from collections import Counter\n",
    "n=int(input())                            #Input number of people per family\n",
    "x=Counter(list(map(int,input().split()))) #Taking  input of room numbers of everyone\n",
    "                                          #Counter function counts the total number of repitions and prepares a list implicitly\n",
    "for i in x:\n",
    "    if x[i]==1:                           #If in the above prepared list, if any element has appeared only once, \n",
    "        print(i)                          #we shall print it"
   ]
  },
  {
   "cell_type": "code",
   "execution_count": null,
   "id": "01c4fb46",
   "metadata": {},
   "outputs": [],
   "source": []
  }
 ],
 "metadata": {
  "kernelspec": {
   "display_name": "Python 3 (ipykernel)",
   "language": "python",
   "name": "python3"
  },
  "language_info": {
   "codemirror_mode": {
    "name": "ipython",
    "version": 3
   },
   "file_extension": ".py",
   "mimetype": "text/x-python",
   "name": "python",
   "nbconvert_exporter": "python",
   "pygments_lexer": "ipython3",
   "version": "3.9.7"
  }
 },
 "nbformat": 4,
 "nbformat_minor": 5
}
