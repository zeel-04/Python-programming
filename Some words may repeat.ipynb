{
 "cells": [
  {
   "cell_type": "code",
   "execution_count": 1,
   "id": "31c287d9",
   "metadata": {},
   "outputs": [
    {
     "name": "stdout",
     "output_type": "stream",
     "text": [
      "4\n",
      "bcdef\n",
      "abc\n",
      "dfghk\n",
      "bcdef\n",
      "3\n",
      "2 1 1\n"
     ]
    }
   ],
   "source": [
    "total_inputs = int(input())            #taking input from user for total number of test cases\n",
    "counter_dict = {}                      #dictionary to store unrepeated words\n",
    "words_list = []                        #list to store words from user input\n",
    "\n",
    "for i in range(total_inputs):          #for loop to iterate through all test cases\n",
    "  word = input()                       #input from user for words\n",
    "  words_list.append(word)\n",
    "  if word in counter_dict:\n",
    "    counter_dict[word] += 1\n",
    "  else:\n",
    "    counter_dict[word] = 1\n",
    "    \n",
    "print(len(counter_dict))            #printing length of dictionary to show total unrepeated words \n",
    "print(' '.join([str(counter_dict[word]) for word in counter_dict])) "
   ]
  },
  {
   "cell_type": "code",
   "execution_count": null,
   "id": "e0867330",
   "metadata": {},
   "outputs": [],
   "source": []
  }
 ],
 "metadata": {
  "kernelspec": {
   "display_name": "Python 3 (ipykernel)",
   "language": "python",
   "name": "python3"
  },
  "language_info": {
   "codemirror_mode": {
    "name": "ipython",
    "version": 3
   },
   "file_extension": ".py",
   "mimetype": "text/x-python",
   "name": "python",
   "nbconvert_exporter": "python",
   "pygments_lexer": "ipython3",
   "version": "3.9.7"
  }
 },
 "nbformat": 4,
 "nbformat_minor": 5
}
