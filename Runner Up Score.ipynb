{
 "cells": [
  {
   "cell_type": "code",
   "execution_count": 4,
   "id": "d25c0f9e",
   "metadata": {},
   "outputs": [
    {
     "name": "stdout",
     "output_type": "stream",
     "text": [
      "6\n",
      "11 13 24 8 21 52\n",
      "24\n"
     ]
    }
   ],
   "source": [
    "total_elements = int(input())      #Input total elements\n",
    "scores = map(int, input().split()) #Input values of all the scores\n",
    "\n",
    "# First convert array to set, then to list then sort it and then print the second last element by neg indexing\n",
    "score_set = set(scores)\n",
    "score_list = list(score_set)\n",
    "score_list.sort()\n",
    "print(score_list[-2])"
   ]
  },
  {
   "cell_type": "code",
   "execution_count": null,
   "id": "91964db1",
   "metadata": {},
   "outputs": [],
   "source": []
  }
 ],
 "metadata": {
  "kernelspec": {
   "display_name": "Python 3 (ipykernel)",
   "language": "python",
   "name": "python3"
  },
  "language_info": {
   "codemirror_mode": {
    "name": "ipython",
    "version": 3
   },
   "file_extension": ".py",
   "mimetype": "text/x-python",
   "name": "python",
   "nbconvert_exporter": "python",
   "pygments_lexer": "ipython3",
   "version": "3.9.7"
  }
 },
 "nbformat": 4,
 "nbformat_minor": 5
}
